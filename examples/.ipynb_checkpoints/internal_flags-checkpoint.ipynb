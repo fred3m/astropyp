{
 "cells": [
  {
   "cell_type": "code",
   "execution_count": 11,
   "metadata": {
    "collapsed": false
   },
   "outputs": [
    {
     "data": {
      "text/html": [
       "&lt;Table length=8&gt;\n",
       "<table id=\"table140188159448528\">\n",
       "<thead><tr><th>Value</th><th>Description</th></tr></thead>\n",
       "<thead><tr><th>int64</th><th>str54</th></tr></thead>\n",
       "<tr><td>1</td><td>Bad/invalid pixel</td></tr>\n",
       "<tr><td>2</td><td>Null value (for Resampled and Stacked Images)</td></tr>\n",
       "<tr><td>3</td><td>Saturated</td></tr>\n",
       "<tr><td>4</td><td>Bleed trail</td></tr>\n",
       "<tr><td>5</td><td>Cosmic Ray</td></tr>\n",
       "<tr><td>6</td><td>Low weight</td></tr>\n",
       "<tr><td>7</td><td>Difference detection (derived from multiple exposures)</td></tr>\n",
       "<tr><td>8</td><td>Long streak (e.g. satellite trail)</td></tr>\n",
       "</table>"
      ],
      "text/plain": [
       "<Table length=8>\n",
       "Value                      Description                      \n",
       "int64                         str54                         \n",
       "----- ------------------------------------------------------\n",
       "    1                                      Bad/invalid pixel\n",
       "    2          Null value (for Resampled and Stacked Images)\n",
       "    3                                              Saturated\n",
       "    4                                            Bleed trail\n",
       "    5                                             Cosmic Ray\n",
       "    6                                             Low weight\n",
       "    7 Difference detection (derived from multiple exposures)\n",
       "    8                     Long streak (e.g. satellite trail)"
      ]
     },
     "metadata": {},
     "output_type": "display_data"
    },
    {
     "name": "stdout",
     "output_type": "stream",
     "text": [
      "[1 6 3 6 3 1 7 1 7 0]\n"
     ]
    },
    {
     "data": {
      "text/html": [
       "&lt;Table length=10&gt;\n",
       "<table id=\"table140188159448208\">\n",
       "<thead><tr><th>1</th><th>2</th><th>3</th><th>4</th><th>5</th><th>6</th><th>7</th><th>8</th></tr></thead>\n",
       "<thead><tr><th>bool</th><th>bool</th><th>bool</th><th>bool</th><th>bool</th><th>bool</th><th>bool</th><th>bool</th></tr></thead>\n",
       "<tr><td>True</td><td>False</td><td>False</td><td>False</td><td>False</td><td>False</td><td>False</td><td>False</td></tr>\n",
       "<tr><td>False</td><td>False</td><td>False</td><td>False</td><td>False</td><td>True</td><td>False</td><td>False</td></tr>\n",
       "<tr><td>False</td><td>False</td><td>True</td><td>False</td><td>False</td><td>False</td><td>False</td><td>False</td></tr>\n",
       "<tr><td>False</td><td>False</td><td>False</td><td>False</td><td>False</td><td>True</td><td>False</td><td>False</td></tr>\n",
       "<tr><td>False</td><td>False</td><td>True</td><td>False</td><td>False</td><td>False</td><td>False</td><td>False</td></tr>\n",
       "<tr><td>True</td><td>False</td><td>False</td><td>False</td><td>False</td><td>False</td><td>False</td><td>False</td></tr>\n",
       "<tr><td>False</td><td>False</td><td>False</td><td>False</td><td>False</td><td>False</td><td>True</td><td>False</td></tr>\n",
       "<tr><td>True</td><td>False</td><td>False</td><td>False</td><td>False</td><td>False</td><td>False</td><td>False</td></tr>\n",
       "<tr><td>False</td><td>False</td><td>False</td><td>False</td><td>False</td><td>False</td><td>True</td><td>False</td></tr>\n",
       "<tr><td>False</td><td>False</td><td>False</td><td>False</td><td>False</td><td>False</td><td>False</td><td>False</td></tr>\n",
       "</table>"
      ],
      "text/plain": [
       "<Table length=10>\n",
       "  1     2     3     4     5     6     7     8  \n",
       " bool  bool  bool  bool  bool  bool  bool  bool\n",
       "----- ----- ----- ----- ----- ----- ----- -----\n",
       " True False False False False False False False\n",
       "False False False False False  True False False\n",
       "False False  True False False False False False\n",
       "False False False False False  True False False\n",
       "False False  True False False False False False\n",
       " True False False False False False False False\n",
       "False False False False False False  True False\n",
       " True False False False False False False False\n",
       "False False False False False False  True False\n",
       "False False False False False False False False"
      ]
     },
     "metadata": {},
     "output_type": "display_data"
    }
   ],
   "source": [
    "import numpy as np\n",
    "import astropyp.utils.misc\n",
    "from IPython.display import display\n",
    "\n",
    "flag_obj  = astropyp.utils.misc.InternalFlags('decam')\n",
    "display(flag_obj.get_flag_info())\n",
    "flags = np.random.randint(0,8,10)\n",
    "print flags\n",
    "display(flag_obj.get_flags(flags))"
   ]
  },
  {
   "cell_type": "code",
   "execution_count": 12,
   "metadata": {
    "collapsed": false
   },
   "outputs": [
    {
     "data": {
      "text/html": [
       "&lt;Table length=8&gt;\n",
       "<table id=\"table140188159401168\">\n",
       "<thead><tr><th>Bits</th><th>Description</th></tr></thead>\n",
       "<thead><tr><th>int64</th><th>str104</th></tr></thead>\n",
       "<tr><td>128</td><td>Multi-exposure transient</td></tr>\n",
       "<tr><td>64</td><td>Charge bleed trail</td></tr>\n",
       "<tr><td>32</td><td>[Not Used]</td></tr>\n",
       "<tr><td>16</td><td>Single Exposure Cosmic Ray</td></tr>\n",
       "<tr><td>8</td><td>[Not Used]</td></tr>\n",
       "<tr><td>4</td><td>Interpolated</td></tr>\n",
       "<tr><td>2</td><td>Saturated</td></tr>\n",
       "<tr><td>1</td><td>Bad/invalid pixel identified in themaster data quality mask; generallyindicates known detector blemishes</td></tr>\n",
       "</table>"
      ],
      "text/plain": [
       "<Table length=8>\n",
       " Bits ...\n",
       "int64 ...\n",
       "----- ...\n",
       "  128 ...\n",
       "   64 ...\n",
       "   32 ...\n",
       "   16 ...\n",
       "    8 ...\n",
       "    4 ...\n",
       "    2 ...\n",
       "    1 ..."
      ]
     },
     "metadata": {},
     "output_type": "display_data"
    },
    {
     "name": "stdout",
     "output_type": "stream",
     "text": [
      "[207 209 235  80  44 202 251 141 103 236]\n"
     ]
    },
    {
     "data": {
      "text/html": [
       "&lt;Table length=10&gt;\n",
       "<table id=\"table140188159451088\">\n",
       "<thead><tr><th>128</th><th>64</th><th>32</th><th>16</th><th>8</th><th>4</th><th>2</th><th>1</th></tr></thead>\n",
       "<thead><tr><th>bool</th><th>bool</th><th>bool</th><th>bool</th><th>bool</th><th>bool</th><th>bool</th><th>bool</th></tr></thead>\n",
       "<tr><td>True</td><td>True</td><td>False</td><td>False</td><td>True</td><td>True</td><td>True</td><td>True</td></tr>\n",
       "<tr><td>True</td><td>True</td><td>False</td><td>True</td><td>False</td><td>False</td><td>False</td><td>True</td></tr>\n",
       "<tr><td>True</td><td>True</td><td>True</td><td>False</td><td>True</td><td>False</td><td>True</td><td>True</td></tr>\n",
       "<tr><td>False</td><td>True</td><td>False</td><td>True</td><td>False</td><td>False</td><td>False</td><td>False</td></tr>\n",
       "<tr><td>False</td><td>False</td><td>True</td><td>False</td><td>True</td><td>True</td><td>False</td><td>False</td></tr>\n",
       "<tr><td>True</td><td>True</td><td>False</td><td>False</td><td>True</td><td>False</td><td>True</td><td>False</td></tr>\n",
       "<tr><td>True</td><td>True</td><td>True</td><td>True</td><td>True</td><td>False</td><td>True</td><td>True</td></tr>\n",
       "<tr><td>True</td><td>False</td><td>False</td><td>False</td><td>True</td><td>True</td><td>False</td><td>True</td></tr>\n",
       "<tr><td>False</td><td>True</td><td>True</td><td>False</td><td>False</td><td>True</td><td>True</td><td>True</td></tr>\n",
       "<tr><td>True</td><td>True</td><td>True</td><td>False</td><td>True</td><td>True</td><td>False</td><td>False</td></tr>\n",
       "</table>"
      ],
      "text/plain": [
       "<Table length=10>\n",
       " 128    64    32    16    8     4     2     1  \n",
       " bool  bool  bool  bool  bool  bool  bool  bool\n",
       "----- ----- ----- ----- ----- ----- ----- -----\n",
       " True  True False False  True  True  True  True\n",
       " True  True False  True False False False  True\n",
       " True  True  True False  True False  True  True\n",
       "False  True False  True False False False False\n",
       "False False  True False  True  True False False\n",
       " True  True False False  True False  True False\n",
       " True  True  True  True  True False  True  True\n",
       " True False False False  True  True False  True\n",
       "False  True  True False False  True  True  True\n",
       " True  True  True False  True  True False False"
      ]
     },
     "metadata": {},
     "output_type": "display_data"
    }
   ],
   "source": [
    "flag_obj  = astropyp.utils.misc.InternalFlags('decam early')\n",
    "display(flag_obj.get_flag_info())\n",
    "flags = np.random.randint(0,255,10)\n",
    "print flags\n",
    "display(flag_obj.get_flags(flags))"
   ]
  },
  {
   "cell_type": "code",
   "execution_count": null,
   "metadata": {
    "collapsed": true
   },
   "outputs": [],
   "source": []
  }
 ],
 "metadata": {
  "kernelspec": {
   "display_name": "Python 2",
   "language": "python",
   "name": "python2"
  }
 },
 "nbformat": 4,
 "nbformat_minor": 0
}
