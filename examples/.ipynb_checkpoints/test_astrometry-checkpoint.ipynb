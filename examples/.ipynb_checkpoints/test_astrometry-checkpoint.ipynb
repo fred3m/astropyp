{
 "cells": [
  {
   "cell_type": "code",
   "execution_count": 59,
   "metadata": {
    "collapsed": false
   },
   "outputs": [],
   "source": [
    "import numpy as np\n",
    "from collections import OrderedDict\n",
    "import logging\n",
    "\n",
    "from IPython.display import display\n",
    "%matplotlib inline\n",
    "\n",
    "from astropy.io import fits\n",
    "import astropy.wcs\n",
    "from astropy import coordinates\n",
    "import astropy.units as apu\n",
    "from astropy import table\n",
    "\n",
    "import astropyp\n",
    "\n",
    "alogger = logging.getLogger('astropyp.astrometry')\n",
    "alogger.setLevel(logging.INFO)\n",
    "\n",
    "idx_connect = 'sqlite:////media/data-beta/users/fmooleka/decam/decam.db'\n",
    "\n",
    "conv_filter = np.array([\n",
    "    [0.030531, 0.065238, 0.112208, 0.155356, 0.173152, 0.155356, 0.112208, 0.065238, 0.030531],\n",
    "    [0.065238, 0.139399, 0.239763, 0.331961, 0.369987, 0.331961, 0.239763, 0.139399, 0.065238],\n",
    "    [0.112208, 0.239763, 0.412386, 0.570963, 0.636368, 0.570963, 0.412386, 0.239763, 0.112208],\n",
    "    [0.155356, 0.331961, 0.570963, 0.790520, 0.881075, 0.790520, 0.570963, 0.331961, 0.155356],\n",
    "    [0.173152, 0.369987, 0.636368, 0.881075, 0.982004, 0.881075, 0.636368, 0.369987, 0.173152],\n",
    "    [0.155356, 0.331961, 0.570963, 0.790520, 0.881075, 0.790520, 0.570963, 0.331961, 0.155356],\n",
    "    [0.112208, 0.239763, 0.412386, 0.570963, 0.636368, 0.570963, 0.412386, 0.239763, 0.112208],\n",
    "    [0.065238, 0.139399, 0.239763, 0.331961, 0.369987, 0.331961, 0.239763, 0.139399, 0.065238],\n",
    "    [0.030531, 0.065238, 0.112208, 0.155356, 0.173152, 0.155356, 0.112208, 0.065238, 0.030531]\n",
    "])\n",
    "# SExtractor 'extract' detection parameters\n",
    "sex_params = {\n",
    "    'extract': {\n",
    "        #'thresh': 1.5,# *bkg.globalrms,\n",
    "        #'err':,\n",
    "        #'minarea': 5, # default\n",
    "        'conv': conv_filter,\n",
    "        #'deblend_nthresh': 32, #default\n",
    "        'deblend_cont': 0.001,\n",
    "        #'clean': True, #default\n",
    "        #'clean_param': 1 #default\n",
    "    },\n",
    "    'kron_k': 2.5,\n",
    "    'kron_min_radius': 3.5,\n",
    "    'filter': conv_filter,\n",
    "    'thresh': 1.5\n",
    "}\n",
    "\n",
    "from astropyp.wrappers.astromatic import ldac\n",
    "obj='F100'\n",
    "refname = '2MASS'\n",
    "#refname = 'UCAC4'\n",
    "fullref = ldac.get_table_from_ldac(\n",
    "    '/media/data-beta/users/fmooleka/decam/catalogs/ref/{0}-{1}.fits'.format(obj, refname))\n",
    "\n",
    "refcat = astropyp.catalog.Catalog(fullref)\n",
    "#refcat = astropyp.catalog.Catalog(fullref, ra='ra_J2015.4', dec='dec_J2015.4', \n",
    "#                                  e_ra='e_ra_J2015.4',e_dec='e_dec_J2015.4')"
   ]
  },
  {
   "cell_type": "code",
   "execution_count": 39,
   "metadata": {
    "collapsed": false
   },
   "outputs": [
    {
     "name": "stderr",
     "output_type": "stream",
     "text": [
      "INFO:astropyp.phot.psf:Total sources: 1870\n",
      "INFO:astropyp.phot.psf:Sources with low flux: 192\n",
      "INFO:astropyp.phot.psf:Sources with low amplitude: 1624\n",
      "INFO:astropyp.phot.psf:Sources with bad pixels: 295\n",
      "INFO:astropyp.phot.psf:Elliptical sources: 161\n",
      "INFO:astropyp.phot.psf:Source with close neighbors: 547\n",
      "INFO:astropyp.phot.psf:Sources near an edge: 15\n",
      "INFO:astropyp.phot.psf:Sources after cuts: 142\n",
      "INFO:astropyp.astrometry:Good sources: 390\n"
     ]
    }
   ],
   "source": [
    "import warnings\n",
    "from astropy.utils.exceptions import AstropyWarning\n",
    "warnings.simplefilter('ignore', category=AstropyWarning)\n",
    "\n",
    "def get_exp_files(expnum, night, filtr, idx_connect):\n",
    "    sql = 'select * from decam_obs where expnum={0}'.format(expnum)\n",
    "    exp_info = astropyp.db_utils.index.query(sql, idx_connect)\n",
    "    img_filename = exp_info[exp_info['PRODTYPE']=='image'][0]['filename']\n",
    "    img = fits.open(img_filename)\n",
    "    dqmask_filename = exp_info[exp_info['PRODTYPE']=='dqmask'][0]['filename']\n",
    "    dqmask = fits.open(dqmask_filename)\n",
    "    return img, dqmask\n",
    "  \n",
    "min_flux = 1000\n",
    "min_amplitude = 1000\n",
    "good_amplitude = 100\n",
    "calibrate_amplitude = 200\n",
    "frame = 1\n",
    "#explist = [442430, 442431, 442432]\n",
    "#explist = [442433, 442434, 442435]\n",
    "#explist = [442428]\n",
    "explist = [206401]\n",
    "\n",
    "ccds = OrderedDict()\n",
    "good_indices = OrderedDict()\n",
    "allwcs = OrderedDict()\n",
    "imgs = []\n",
    "for expnum in explist:\n",
    "    #img, dqmask = get_exp_files(expnum, \"2015-05-26\", \"i\", idx_connect)\n",
    "    img, dqmask = get_exp_files(expnum, \"2015-05-26\", \"z\", idx_connect)\n",
    "    imgs.append(img[frame].data)\n",
    "    header = img[frame].header\n",
    "    wcs = astropy.wcs.WCS(header)\n",
    "    img_data = img[frame].data\n",
    "    dqmask_data = dqmask[frame].data\n",
    "    ccd = astropyp.phot.phot.SingleImage(header, img_data, dqmask_data,\n",
    "        wcs=wcs, gain=4., exptime=30, aper_radius=8)\n",
    "    ccd.detect_sources(sex_params, subtract_bkg=True)\n",
    "    ccd.select_psf_sources(min_flux,min_amplitude)\n",
    "    good_idx = ccd.catalog.sources['peak']>calibrate_amplitude\n",
    "    good_idx = good_idx & (ccd.catalog.sources['pipeline_flags']==0)\n",
    "    alogger.info(\"Good sources: {0}\".format(np.sum(good_idx)))\n",
    "    ccds[expnum] = ccd\n",
    "    good_indices[expnum] = good_idx\n",
    "    allwcs[expnum] = wcs"
   ]
  },
  {
   "cell_type": "code",
   "execution_count": 68,
   "metadata": {
    "collapsed": false
   },
   "outputs": [
    {
     "name": "stderr",
     "output_type": "stream",
     "text": [
      "INFO:astropyp.astrometry:formula: \"ra ~ A_1_0+A_0_1+A_2_0+A_1_1+A_0_2+A_3_0+A_2_1+A_1_2+A_0_3\"\n",
      "INFO:astropyp.astrometry:formula: \"dec ~ B_1_0+B_0_1+B_2_0+B_1_1+B_0_2+B_3_0+B_2_1+B_1_2+B_0_3\"\n",
      "INFO:astropyp.astrometry:formula: \"x ~ Ap_1_0+Ap_0_1+Ap_2_0+Ap_1_1+Ap_0_2+Ap_3_0+Ap_2_1+Ap_1_2+Ap_0_3\"\n",
      "INFO:astropyp.astrometry:formula: \"y ~ Bp_1_0+Bp_0_1+Bp_2_0+Bp_1_1+Bp_0_2+Bp_3_0+Bp_2_1+Bp_1_2+Bp_0_3\"\n"
     ]
    },
    {
     "name": "stdout",
     "output_type": "stream",
     "text": [
      "mean d_ra 152.561464456 mas\n",
      "mean d_dec 162.184190601 mas\n",
      "ra rms 212.447627043 mas\n",
      "dec rms 231.882186944 mas\n",
      "0.246299arcsec\n",
      "0.195551arcsec\n",
      "rms 0.314489059655 arcsec\n",
      "high SNR sources 228\n",
      "high SNR 0.246299arcsec\n",
      "high SNR 0.195551arcsec\n",
      "high SNR rms 0.314489059655 arcsec\n",
      "cartesian mean 0.00201935257059\n",
      "cartesian stddev 0.00120654493732\n",
      "cartesian rms 0.00235234680481\n"
     ]
    }
   ],
   "source": [
    "#catalogs = [ccd.catalog.sources[good_indices[expnum]] for expnum, ccd in ccds.items()]\n",
    "#cat1, cat2, cat3 = astropyp.catalog.match_all_catalogs(catalogs, 'ra','dec', combine=False)\n",
    "cat1 = ccds[206401].catalog.sources[good_indices[206401]]\n",
    "\n",
    "good_cat = astropyp.catalog.Catalog(cat1, ra='ra_win', dec='dec_win', x='xwin',y='ywin')\n",
    "\n",
    "crpix = [1024, 2048]\n",
    "cra, cdec = wcs.wcs_pix2world([crpix[0]],[crpix[1]],0)\n",
    "crval = [cra[0],cdec[0]]\n",
    "\n",
    "metric = astropyp.astrometry.AstrometricSolution(crpix=crpix, crval=crval)\n",
    "\n",
    "ref_weights = np.array(1/np.sqrt(refcat.e_ra**2+refcat.e_dec**2))\n",
    "#weights = good_cat['aper_flux']/good_cat['aper_flux_err']\n",
    "\n",
    "idx, matched = metric.get_solution(good_cat, refcat, ref_weights=ref_weights)\n",
    "#idx, matched = metric.get_solution(good_cat, refcat, separation=3*apu.arcsec)\n",
    "\n",
    "ra,dec = metric.pix2world(good_cat.x[matched],good_cat.y[matched])\n",
    "\n",
    "d_ra = ((np.abs(ra-np.array(refcat.ra[idx][matched]))*np.cos(np.deg2rad(np.array(dec))))*apu.deg).to('mas')\n",
    "d_dec = ((np.abs(dec-np.array(refcat.dec[idx][matched])))*apu.deg).to('mas')\n",
    "print 'mean d_ra', np.mean(d_ra)\n",
    "print 'mean d_dec', np.mean(d_dec)\n",
    "print 'ra rms', np.sqrt(np.sum(d_ra**2)/d_ra.shape[0])\n",
    "print 'dec rms', np.sqrt(np.sum(d_dec**2)/d_dec.shape[0])\n",
    "\n",
    "c1 = coordinates.SkyCoord(ra, dec, unit='deg')\n",
    "c2 = coordinates.SkyCoord(refcat.ra[idx][matched], refcat.dec[idx][matched], unit='deg')\n",
    "separation = c1.separation(c2)\n",
    "separation = separation.to('arcsec')\n",
    "print np.mean(separation)\n",
    "print np.std(separation)\n",
    "print 'rms', np.sqrt(np.sum(separation**2)/separation.shape[0])\n",
    "\n",
    "#pidx = good_cat['peak'][matched]>2000\n",
    "pidx = good_cat['aper_flux'][matched]/good_cat['aper_flux_err'][matched]>100\n",
    "c1 = coordinates.SkyCoord(ra[pidx], dec[pidx], unit='deg')\n",
    "c2 = coordinates.SkyCoord(refcat.ra[idx][matched][pidx], refcat.dec[idx][matched][pidx], unit='deg')\n",
    "separation = c1.separation(c2)\n",
    "separation = separation.to('arcsec')\n",
    "print 'high SNR sources', np.sum(pidx)\n",
    "print 'high SNR', np.mean(separation)\n",
    "print 'high SNR', np.std(separation)\n",
    "print 'high SNR rms', np.sqrt(np.sum(separation**2)/separation.shape[0])\n",
    "\n",
    "x,y = metric.world2pix(ra, dec)\n",
    "d2 = np.sqrt((x-good_cat.x[matched])**2 + (y-good_cat.y[matched])**2)\n",
    "print 'cartesian mean', np.mean(d2)\n",
    "print 'cartesian stddev', np.std(d2)\n",
    "print 'cartesian rms', np.sqrt(np.sum(d2**2)/d2.shape[0])"
   ]
  },
  {
   "cell_type": "code",
   "execution_count": 69,
   "metadata": {
    "collapsed": false
   },
   "outputs": [
    {
     "name": "stdout",
     "output_type": "stream",
     "text": [
      "168.289472823 mas 142.192982774 mas\n",
      "185.620107265 mas\n",
      "159.373774689 mas\n"
     ]
    }
   ],
   "source": [
    "d_ra = refcat.e_ra[idx][matched]\n",
    "d_dec = refcat.e_dec[idx][matched]\n",
    "print np.mean(d_ra), np.mean(d_dec)\n",
    "print np.sqrt(np.sum(d_ra**2)/d_ra.shape[0])\n",
    "print np.sqrt(np.sum(d_dec**2)/d_dec.shape[0])"
   ]
  },
  {
   "cell_type": "code",
   "execution_count": null,
   "metadata": {
    "collapsed": true
   },
   "outputs": [],
   "source": []
  }
 ],
 "metadata": {
  "kernelspec": {
   "display_name": "Python 2",
   "language": "python",
   "name": "python2"
  },
  "language_info": {
   "codemirror_mode": {
    "name": "ipython",
    "version": 2
   },
   "file_extension": ".py",
   "mimetype": "text/x-python",
   "name": "python",
   "nbconvert_exporter": "python",
   "pygments_lexer": "ipython2",
   "version": "2.7.10"
  }
 },
 "nbformat": 4,
 "nbformat_minor": 0
}
