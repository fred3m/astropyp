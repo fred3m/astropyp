{
 "cells": [
  {
   "cell_type": "code",
   "execution_count": 1,
   "metadata": {
    "collapsed": true
   },
   "outputs": [],
   "source": [
    "from astropy import table\n",
    "import pandas\n",
    "import astropyp\n",
    "import numpy as np"
   ]
  },
  {
   "cell_type": "code",
   "execution_count": 14,
   "metadata": {
    "collapsed": false
   },
   "outputs": [],
   "source": [
    "tbl_connect = 'sqlite:////media/data-beta/users/fmooleka/temp/test.db'\n",
    "tbl = table.Table([[1,2,3],[4,6,7],[0,1,2]],names=('a','b','c'))\n",
    "frame = 2\n",
    "astropyp.catalog.save_catalog(tbl, tbl_connect, 'tbl1', 'Chip{0}'.format(frame))"
   ]
  },
  {
   "cell_type": "code",
   "execution_count": 15,
   "metadata": {
    "collapsed": false
   },
   "outputs": [
    {
     "data": {
      "text/html": [
       "&lt;Table length=9&gt;\n",
       "<table id=\"table140207632189200\">\n",
       "<thead><tr><th>index</th><th>a</th><th>b</th><th>c</th><th>frame</th></tr></thead>\n",
       "<thead><tr><th>int64</th><th>int64</th><th>int64</th><th>int64</th><th>unicode5</th></tr></thead>\n",
       "<tr><td>0</td><td>1</td><td>4</td><td>0</td><td>Chip1</td></tr>\n",
       "<tr><td>1</td><td>2</td><td>6</td><td>1</td><td>Chip1</td></tr>\n",
       "<tr><td>2</td><td>3</td><td>7</td><td>2</td><td>Chip1</td></tr>\n",
       "<tr><td>0</td><td>1</td><td>4</td><td>0</td><td>Chip5</td></tr>\n",
       "<tr><td>1</td><td>2</td><td>6</td><td>1</td><td>Chip5</td></tr>\n",
       "<tr><td>2</td><td>3</td><td>7</td><td>2</td><td>Chip5</td></tr>\n",
       "<tr><td>0</td><td>1</td><td>4</td><td>0</td><td>Chip2</td></tr>\n",
       "<tr><td>1</td><td>2</td><td>6</td><td>1</td><td>Chip2</td></tr>\n",
       "<tr><td>2</td><td>3</td><td>7</td><td>2</td><td>Chip2</td></tr>\n",
       "</table>"
      ],
      "text/plain": [
       "<Table length=9>\n",
       "index   a     b     c    frame  \n",
       "int64 int64 int64 int64 unicode5\n",
       "----- ----- ----- ----- --------\n",
       "    0     1     4     0    Chip1\n",
       "    1     2     6     1    Chip1\n",
       "    2     3     7     2    Chip1\n",
       "    0     1     4     0    Chip5\n",
       "    1     2     6     1    Chip5\n",
       "    2     3     7     2    Chip5\n",
       "    0     1     4     0    Chip2\n",
       "    1     2     6     1    Chip2\n",
       "    2     3     7     2    Chip2"
      ]
     },
     "execution_count": 15,
     "metadata": {},
     "output_type": "execute_result"
    }
   ],
   "source": [
    "tbl_connect = 'sqlite:////media/data-beta/users/fmooleka/temp/test.db'\n",
    "engine = astropyp.db_utils.index.init_connection(tbl_connect)\n",
    "df2 = pandas.read_sql('select * from tbl1', engine)\n",
    "tbl = table.Table.from_pandas(df2)\n",
    "tbl"
   ]
  },
  {
   "cell_type": "code",
   "execution_count": null,
   "metadata": {
    "collapsed": true
   },
   "outputs": [],
   "source": []
  }
 ],
 "metadata": {
  "kernelspec": {
   "display_name": "Python 2",
   "language": "python",
   "name": "python2"
  },
  "language_info": {
   "codemirror_mode": {
    "name": "ipython",
    "version": 2
   },
   "file_extension": ".py",
   "mimetype": "text/x-python",
   "name": "python",
   "nbconvert_exporter": "python",
   "pygments_lexer": "ipython2",
   "version": "2.7.10"
  }
 },
 "nbformat": 4,
 "nbformat_minor": 0
}
