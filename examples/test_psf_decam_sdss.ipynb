{
 "cells": [
  {
   "cell_type": "code",
   "execution_count": 65,
   "metadata": {
    "collapsed": false
   },
   "outputs": [
    {
     "name": "stdout",
     "output_type": "stream",
     "text": [
      "astropyp version 0.0.dev224\n"
     ]
    }
   ],
   "source": [
    "from __future__ import division\n",
    "import os\n",
    "import numpy as np\n",
    "from collections import OrderedDict\n",
    "import logging\n",
    "import pandas\n",
    "\n",
    "from astropy.io import fits\n",
    "import astropy.wcs \n",
    "from astropy import table\n",
    "import sep\n",
    "import warnings\n",
    "from astropy.utils.exceptions import AstropyWarning\n",
    "warnings.simplefilter('ignore', category=AstropyWarning)\n",
    "\n",
    "import astropyp\n",
    "print 'astropyp version', astropyp.version.version\n",
    "\n",
    "from IPython.display import display\n",
    "\n",
    "logger = logging.getLogger('ipy_session')\n",
    "logger.setLevel(logging.INFO)\n",
    "img_path = '/media/data-beta/users/fmooleka/decam/std_resamp/'\n",
    "conv_filter = np.array([\n",
    "    [0.030531, 0.065238, 0.112208, 0.155356, 0.173152, 0.155356, 0.112208, 0.065238, 0.030531],\n",
    "    [0.065238, 0.139399, 0.239763, 0.331961, 0.369987, 0.331961, 0.239763, 0.139399, 0.065238],\n",
    "    [0.112208, 0.239763, 0.412386, 0.570963, 0.636368, 0.570963, 0.412386, 0.239763, 0.112208],\n",
    "    [0.155356, 0.331961, 0.570963, 0.790520, 0.881075, 0.790520, 0.570963, 0.331961, 0.155356],\n",
    "    [0.173152, 0.369987, 0.636368, 0.881075, 0.982004, 0.881075, 0.636368, 0.369987, 0.173152],\n",
    "    [0.155356, 0.331961, 0.570963, 0.790520, 0.881075, 0.790520, 0.570963, 0.331961, 0.155356],\n",
    "    [0.112208, 0.239763, 0.412386, 0.570963, 0.636368, 0.570963, 0.412386, 0.239763, 0.112208],\n",
    "    [0.065238, 0.139399, 0.239763, 0.331961, 0.369987, 0.331961, 0.239763, 0.139399, 0.065238],\n",
    "    [0.030531, 0.065238, 0.112208, 0.155356, 0.173152, 0.155356, 0.112208, 0.065238, 0.030531]\n",
    "])\n",
    "# SExtractor 'extract' detection parameters\n",
    "sex_params = {\n",
    "    'extract': {\n",
    "        #'thresh': 1.5,# *bkg.globalrms,\n",
    "        #'err':,\n",
    "        #'minarea': 5, # default\n",
    "        'conv': conv_filter,\n",
    "        #'deblend_nthresh': 32, #default\n",
    "        'deblend_cont': 0.001,\n",
    "        #'clean': True, #default\n",
    "        #'clean_param': 1 #default\n",
    "    },\n",
    "    'kron_k': 2.5,\n",
    "    'kron_min_radius': 3.5,\n",
    "    'filter': conv_filter,\n",
    "    'thresh': 1.5\n",
    "}\n",
    "\n",
    "idx_connect = 'sqlite:////media/data-beta/users/fmooleka/decam/decam.db'\n",
    "exp_connect = 'sqlite:////media/data-beta/users/fmooleka/2016decam/{0}.{1}.db'\n",
    "\n",
    "aper_radius = 8\n",
    "gain=4.\n",
    "min_flux = 1000\n",
    "min_amplitude = 500\n",
    "subsampling = 5\n",
    "good_amplitude = 100\n",
    "calibrate_amplitude = 200\n",
    "max_offset=3\n",
    "\n",
    "% matplotlib inline\n",
    "import matplotlib\n",
    "import matplotlib.pyplot as plt\n",
    "from mpl_toolkits.mplot3d.axes3d import Axes3D"
   ]
  },
  {
   "cell_type": "code",
   "execution_count": 66,
   "metadata": {
    "collapsed": false,
    "scrolled": false
   },
   "outputs": [
    {
     "name": "stderr",
     "output_type": "stream",
     "text": [
      "INFO:astropyp.phot.psf:Total sources: 489\n",
      "INFO:astropyp.phot.psf:Sources with low flux: 113\n",
      "INFO:astropyp.phot.psf:Sources with low amplitude: 395\n",
      "INFO:astropyp.phot.psf:Sources with bad pixels: 178\n",
      "INFO:astropyp.phot.psf:Elliptical sources: 91\n",
      "INFO:astropyp.phot.psf:Source with close neighbors: 60\n",
      "INFO:astropyp.phot.psf:Sources near an edge: 84\n",
      "INFO:astropyp.phot.psf:Sources after cuts: 44\n"
     ]
    }
   ],
   "source": [
    "import sep\n",
    "conv_filter = np.array([\n",
    "    [0.030531, 0.065238, 0.112208, 0.155356, 0.173152, 0.155356, 0.112208, 0.065238, 0.030531],\n",
    "    [0.065238, 0.139399, 0.239763, 0.331961, 0.369987, 0.331961, 0.239763, 0.139399, 0.065238],\n",
    "    [0.112208, 0.239763, 0.412386, 0.570963, 0.636368, 0.570963, 0.412386, 0.239763, 0.112208],\n",
    "    [0.155356, 0.331961, 0.570963, 0.790520, 0.881075, 0.790520, 0.570963, 0.331961, 0.155356],\n",
    "    [0.173152, 0.369987, 0.636368, 0.881075, 0.982004, 0.881075, 0.636368, 0.369987, 0.173152],\n",
    "    [0.155356, 0.331961, 0.570963, 0.790520, 0.881075, 0.790520, 0.570963, 0.331961, 0.155356],\n",
    "    [0.112208, 0.239763, 0.412386, 0.570963, 0.636368, 0.570963, 0.412386, 0.239763, 0.112208],\n",
    "    [0.065238, 0.139399, 0.239763, 0.331961, 0.369987, 0.331961, 0.239763, 0.139399, 0.065238],\n",
    "    [0.030531, 0.065238, 0.112208, 0.155356, 0.173152, 0.155356, 0.112208, 0.065238, 0.030531]\n",
    "])\n",
    "\n",
    "# SExtractor 'extract' detection parameters\n",
    "sex_params = {\n",
    "    'extract': {\n",
    "        #'thresh': 50, #*bkg.globalrms,\n",
    "        #'err':,\n",
    "        #'minarea': 5, # default\n",
    "        'conv': conv_filter,\n",
    "        #'deblend_nthresh': 32, #default\n",
    "        'deblend_cont': 0.001,\n",
    "        #'clean': True, #default\n",
    "        #'clean_param': 1 #default\n",
    "    },\n",
    "    'kron_k': 2.5,\n",
    "    'kron_min_radius': 3.5,\n",
    "    'filter': conv_filter,\n",
    "    'thresh': 1.5\n",
    "}\n",
    "\n",
    "expnum = 442493\n",
    "sql = 'select * from decam_obs where EXPNUM={0}'.format(expnum)\n",
    "exp_info = astropyp.db_utils.index.query(sql, idx_connect)\n",
    "filename = exp_info[exp_info['PRODTYPE']=='image']['filename'][0]\n",
    "img = fits.open(filename)\n",
    "\n",
    "filename = exp_info[exp_info['PRODTYPE']=='dqmask']['filename'][0]\n",
    "dqmask = fits.open(filename)\n",
    "\n",
    "img_data = img[1].data\n",
    "dqmask_data = dqmask[1].data\n",
    "\n",
    "ccd = astropyp.phot.phot.SingleImage(img=img_data, dqmask=dqmask_data, gain=4., exptime=30, aper_radius=8)\n",
    "ccd.detect_sources(sex_params, subtract_bkg=True)\n",
    "ccd.select_psf_sources(min_flux, min_amplitude, edge_dist=aper_radius+max_offset)\n",
    "psf_array = ccd.create_psf()\n",
    "#ccd.show_psf()\n",
    "good_idx = ccd.catalog.sources['peak']>calibrate_amplitude\n",
    "good_idx = good_idx & (ccd.catalog.sources['pipeline_flags']==0)\n",
    "result = ccd.perform_psf_photometry(indices=good_idx)"
   ]
  },
  {
   "cell_type": "code",
   "execution_count": 67,
   "metadata": {
    "collapsed": false
   },
   "outputs": [
    {
     "name": "stdout",
     "output_type": "stream",
     "text": [
      "good sources 86\n",
      "good psf_err 86\n"
     ]
    }
   ],
   "source": [
    "print 'good sources', np.sum(good_idx)\n",
    "print 'good psf_err', np.sum(np.isfinite(ccd.catalog.sources['psf_mag_err']))"
   ]
  },
  {
   "cell_type": "code",
   "execution_count": 68,
   "metadata": {
    "collapsed": false
   },
   "outputs": [
    {
     "name": "stdout",
     "output_type": "stream",
     "text": [
      "rms 0.0218020244543\n",
      "mean 0.0145499591263\n",
      "median 0.0103483910609\n",
      "stddev 0.0162365932305\n",
      "bad psf error: 3, or 3.48837209302%\n",
      "Better than 5%: 83 of 86\n",
      "Better than 2%: 66 of 86\n"
     ]
    },
    {
     "data": {
      "text/html": [
       "&lt;Table length=3&gt;\n",
       "<table id=\"table140597688243984\">\n",
       "<thead><tr><th>aper_flux</th><th>psf_flux</th><th>peak</th><th>psf_mag_err</th></tr></thead>\n",
       "<thead><tr><th>float64</th><th>float64</th><th>float64</th><th>float64</th></tr></thead>\n",
       "<tr><td>11612.4494165</td><td>13415.3190456</td><td>597.742126465</td><td>0.0508443801306</td></tr>\n",
       "<tr><td>163992.750059</td><td>166485.893865</td><td>6473.95556641</td><td>0.0776251275243</td></tr>\n",
       "<tr><td>10643.6731989</td><td>10466.0743569</td><td>373.162811279</td><td>0.114393727525</td></tr>\n",
       "</table>"
      ],
      "text/plain": [
       "<Table length=3>\n",
       "  aper_flux      psf_flux        peak       psf_mag_err  \n",
       "   float64       float64       float64        float64    \n",
       "------------- ------------- ------------- ---------------\n",
       "11612.4494165 13415.3190456 597.742126465 0.0508443801306\n",
       "163992.750059 166485.893865 6473.95556641 0.0776251275243\n",
       "10643.6731989 10466.0743569 373.162811279  0.114393727525"
      ]
     },
     "execution_count": 68,
     "metadata": {},
     "output_type": "execute_result"
    }
   ],
   "source": [
    "good_idx = ccd.catalog.sources['peak']>calibrate_amplitude\n",
    "good_idx = good_idx & (ccd.catalog.sources['pipeline_flags']==0)\n",
    "good_idx = good_idx & np.isfinite(ccd.catalog.sources['psf_mag'])\n",
    "good_sources = ccd.catalog.sources[good_idx]\n",
    "\n",
    "print 'rms', np.sqrt(np.sum(good_sources['psf_mag_err']**2/len(good_sources)))\n",
    "print 'mean', np.mean(good_sources['psf_mag_err'])\n",
    "print 'median', np.median(good_sources['psf_mag_err'])\n",
    "print 'stddev', np.std(good_sources['psf_mag_err'])\n",
    "\n",
    "bad_count = np.sum(good_sources['psf_mag_err']>.05)\n",
    "print 'bad psf error: {0}, or {1}%'.format(bad_count, bad_count/len(good_sources)*100)\n",
    "print 'Better than 5%: {0} of {1}'.format(np.sum(good_sources['psf_mag_err']<=.05), len(good_sources))\n",
    "print 'Better than 2%: {0} of {1}'.format(np.sum(good_sources['psf_mag_err']<=.02), len(good_sources))\n",
    "good_sources['aper_flux','psf_flux','peak','psf_mag_err'][good_sources['psf_mag_err']>.05]"
   ]
  },
  {
   "cell_type": "code",
   "execution_count": 69,
   "metadata": {
    "collapsed": false
   },
   "outputs": [
    {
     "data": {
      "image/png": "[encoded data removed]",
      "text/plain": [
       "<matplotlib.figure.Figure at 0x7fdf73439690>"
      ]
     },
     "metadata": {},
     "output_type": "display_data"
    },
    {
     "data": {
      "image/png": "[encoded data removed]",
      "text/plain": [
       "<matplotlib.figure.Figure at 0x7fdf5fe18a50>"
      ]
     },
     "metadata": {},
     "output_type": "display_data"
    }
   ],
   "source": [
    "flux_diff = (good_sources['aper_flux']-good_sources['psf_flux'])/good_sources['aper_flux']\n",
    "plt.scatter(good_sources['psf_mag'],flux_diff)\n",
    "plt.xlabel('psf mag')\n",
    "plt.ylabel('(aper-psf)/aper flux ratio')\n",
    "plt.show()\n",
    "\n",
    "plt.scatter(flux_diff, good_sources['psf_mag_err'],)\n",
    "plt.xlabel('(aper-psf)/aper flux ratio')\n",
    "plt.ylabel('psf mag error')\n",
    "plt.show()"
   ]
  },
  {
   "cell_type": "code",
   "execution_count": 70,
   "metadata": {
    "collapsed": false,
    "scrolled": false
   },
   "outputs": [
    {
     "data": {
      "image/png": "[encoded data removed]",
      "text/plain": [
       "<matplotlib.figure.Figure at 0x7fdf5ff35710>"
      ]
     },
     "metadata": {},
     "output_type": "display_data"
    },
    {
     "data": {
      "image/png": "[encoded data removed]",
      "text/plain": [
       "<matplotlib.figure.Figure at 0x7fdf5b8d52d0>"
      ]
     },
     "metadata": {},
     "output_type": "display_data"
    },
    {
     "data": {
      "image/png": "[encoded data removed]",
      "text/plain": [
       "<matplotlib.figure.Figure at 0x7fdf73017ad0>"
      ]
     },
     "metadata": {},
     "output_type": "display_data"
    }
   ],
   "source": [
    "# We see that all sources with high psf error are actually bad detections\n",
    "# or sources with potential unresolved companions\n",
    "from astropy.nddata.utils import extract_array\n",
    "bad_idx = good_sources['psf_mag_err']>.05\n",
    "for src in good_sources[bad_idx]:\n",
    "    subset = extract_array(img_data, (20,20), (src['y'],src['x']))\n",
    "    plt.imshow(subset, interpolation='none')\n",
    "    plt.title(src['psf_mag_err'])\n",
    "    plt.show()"
   ]
  },
  {
   "cell_type": "code",
   "execution_count": 71,
   "metadata": {
    "collapsed": false
   },
   "outputs": [
    {
     "name": "stdout",
     "output_type": "stream",
     "text": [
      "rms 0.015202050803\n",
      "mean 0.0121497981889\n",
      "median 0.010016770262\n",
      "stddev 0.00913699910179\n"
     ]
    }
   ],
   "source": [
    "good_idx = ((ccd.catalog.sources['peak']>calibrate_amplitude)\n",
    "    & (ccd.catalog.sources['pipeline_flags']==0)\n",
    "    & np.isfinite(ccd.catalog.sources['psf_mag'])\n",
    "    & (ccd.catalog.sources['psf_mag_err']<.05))\n",
    "good_sources = ccd.catalog.sources[good_idx]\n",
    "\n",
    "print 'rms', np.sqrt(np.sum(good_sources['psf_mag_err']**2/len(good_sources)))\n",
    "print 'mean', np.mean(good_sources['psf_mag_err'])\n",
    "print 'median', np.median(good_sources['psf_mag_err'])\n",
    "print 'stddev', np.std(good_sources['psf_mag_err'])"
   ]
  },
  {
   "cell_type": "code",
   "execution_count": null,
   "metadata": {
    "collapsed": true
   },
   "outputs": [],
   "source": []
  }
 ],
 "metadata": {
  "kernelspec": {
   "display_name": "Python 2",
   "language": "python",
   "name": "python2"
  },
  "language_info": {
   "codemirror_mode": {
    "name": "ipython",
    "version": 2
   },
   "file_extension": ".py",
   "mimetype": "text/x-python",
   "name": "python",
   "nbconvert_exporter": "python",
   "pygments_lexer": "ipython2",
   "version": "2.7.10"
  }
 },
 "nbformat": 4,
 "nbformat_minor": 0
}
