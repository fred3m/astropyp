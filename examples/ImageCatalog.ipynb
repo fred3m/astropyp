{
 "cells": [
  {
   "cell_type": "code",
   "execution_count": 1,
   "metadata": {
    "collapsed": false
   },
   "outputs": [
    {
     "name": "stdout",
     "output_type": "stream",
     "text": [
      " x   y \n",
      "--- ---\n",
      "  0   0\n",
      "  1   2\n",
      "  2   4\n",
      "  3   6\n",
      "  4   8\n",
      "  5  10\n",
      "  6  12\n",
      "  7  14\n",
      "  8  16\n",
      "  9  18\n",
      "None\n",
      "OrderedDict([('x', 'x'), ('y', 'y'), ('ra', 'RAJ2000'), ('dec', 'DEJ2000'), ('e_ra', 'e_ra'), ('e_dec', 'e_dec'), ('aper_flux', 'aper_flux'), ('aper_flux_err', 'aper_flux_err'), ('psf_flux', 'psf_flux'), ('psf_flux_err', 'psf_flux_err')])\n",
      "<TableColumns names=('y','RAJ2000','DEJ2000','test')>\n",
      "['y', 'ra', 'dec']\n",
      "RAJ2000 test\n",
      "------- ----\n",
      "      0    0\n",
      "      5    7\n",
      "     10   14\n",
      "     15   21\n",
      "     20   28\n",
      "     25   35\n",
      "     30   42\n",
      "     35   49\n",
      "     40   56\n",
      "     45   63\n",
      " y  RAJ2000 DEJ2000 test\n",
      "--- ------- ------- ----\n",
      "  6      15      12   21\n",
      "RAJ2000\n",
      "-------\n",
      "      0\n",
      "      5\n",
      "     10\n",
      "     15\n",
      "     20\n",
      "     25\n",
      "     30\n",
      "     35\n",
      "     40\n",
      "     45\n",
      "test\n",
      "----\n",
      "   0\n",
      "   7\n",
      "  14\n",
      "  21\n",
      "  28\n",
      "  35\n",
      "  42\n",
      "  49\n",
      "  56\n",
      "  63\n",
      "test\n",
      "----\n",
      "   0\n",
      "   7\n",
      "  14\n",
      "  21\n",
      "  28\n",
      "  35\n",
      "  42\n",
      "  49\n",
      "  56\n",
      "  63\n",
      "OrderedDict([('x', 'test'), ('y', 'y'), ('ra', 'RAJ2000'), ('dec', 'DEJ2000'), ('e_ra', 'e_ra'), ('e_dec', 'e_dec'), ('aper_flux', 'aper_flux'), ('aper_flux_err', 'aper_flux_err'), ('psf_flux', 'psf_flux'), ('psf_flux_err', 'psf_flux_err')])\n",
      "['x', 'y', 'ra', 'dec']\n"
     ]
    }
   ],
   "source": [
    "import numpy as np\n",
    "from collections import OrderedDict\n",
    "from astropy import table\n",
    "from astropyp import catalog\n",
    "\n",
    "tbl = table.Table([np.arange(0,10,1), np.arange(0,20,2),np.arange(0,30,3), np.arange(0,40,4), np.arange(0,70,7)],\n",
    "                  names=('x','y','RAJ2000','DEJ2000','test'))\n",
    "cat = catalog.ImageCatalog(tbl, ra='RAJ2000', dec='DEJ2000')\n",
    "cat.sources['RAJ2000'] = np.arange(0,50,5)\n",
    "print cat['x','y']\n",
    "cat.x = np.arange(0,60,6)\n",
    "del cat.x\n",
    "#print cat.sources['x']\n",
    "print cat.x\n",
    "print cat._columns\n",
    "print cat.columns\n",
    "print cat.static_columns\n",
    "print cat['ra','test']\n",
    "print cat[3]\n",
    "print cat['ra']\n",
    "print cat['test']\n",
    "cat.update_static_column('x','test')\n",
    "print cat.x\n",
    "print cat._columns\n",
    "print cat.static_columns"
   ]
  },
  {
   "cell_type": "code",
   "execution_count": 2,
   "metadata": {
    "collapsed": false
   },
   "outputs": [
    {
     "data": {
      "text/html": [
       "&lt;Table length=4&gt;\n",
       "<table id=\"table140384164182928\">\n",
       "<thead><tr><th>y</th><th>RAJ2000</th><th>DEJ2000</th><th>test</th></tr></thead>\n",
       "<thead><tr><th>int64</th><th>int64</th><th>int64</th><th>int64</th></tr></thead>\n",
       "<tr><td>2</td><td>5</td><td>4</td><td>7</td></tr>\n",
       "<tr><td>4</td><td>10</td><td>8</td><td>14</td></tr>\n",
       "<tr><td>6</td><td>15</td><td>12</td><td>21</td></tr>\n",
       "<tr><td>8</td><td>20</td><td>16</td><td>28</td></tr>\n",
       "</table>"
      ],
      "text/plain": [
       "<Table length=4>\n",
       "  y   RAJ2000 DEJ2000  test\n",
       "int64  int64   int64  int64\n",
       "----- ------- ------- -----\n",
       "    2       5       4     7\n",
       "    4      10       8    14\n",
       "    6      15      12    21\n",
       "    8      20      16    28"
      ]
     },
     "execution_count": 2,
     "metadata": {},
     "output_type": "execute_result"
    }
   ],
   "source": [
    "cat[1:5]"
   ]
  },
  {
   "cell_type": "code",
   "execution_count": null,
   "metadata": {
    "collapsed": true
   },
   "outputs": [],
   "source": []
  }
 ],
 "metadata": {
  "kernelspec": {
   "display_name": "Python 2",
   "language": "python",
   "name": "python2"
  },
  "language_info": {
   "codemirror_mode": {
    "name": "ipython",
    "version": 2
   },
   "file_extension": ".py",
   "mimetype": "text/x-python",
   "name": "python",
   "nbconvert_exporter": "python",
   "pygments_lexer": "ipython2",
   "version": "2.7.10"
  }
 },
 "nbformat": 4,
 "nbformat_minor": 0
}
