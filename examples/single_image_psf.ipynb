{
 "cells": [
  {
   "cell_type": "code",
   "execution_count": 1,
   "metadata": {
    "collapsed": false
   },
   "outputs": [
    {
     "name": "stdout",
     "output_type": "stream",
     "text": [
      "0.0.dev221\n"
     ]
    }
   ],
   "source": [
    "from astropy.io import fits\n",
    "import astropy.wcs \n",
    "from astropy import table\n",
    "import sep\n",
    "import numpy as np\n",
    "from collections import OrderedDict\n",
    "\n",
    "import astropyp\n",
    "print astropyp.version.version\n",
    "\n",
    "%matplotlib inline\n",
    "\n",
    "img_path = '/media/data-beta/users/fmooleka/decam/std_resamp/442493.resamp.fits'\n",
    "img = fits.open(img_path)\n",
    "dqmask = fits.open(img_path.replace('.fits', '.dqmask.fits'))\n",
    "frame = 2\n",
    "img_data = img[frame].data.byteswap(True).newbyteorder()\n",
    "dqmask_data = dqmask[frame].data.byteswap(True).newbyteorder()\n",
    "img[frame].header['CTYPE1'] = 'RA---TPV'\n",
    "img[frame].header['CTYPE2'] = 'DEC--TPV'\n",
    "header = img[frame].header\n",
    "wcs = astropy.wcs.WCS(img[frame].header)"
   ]
  },
  {
   "cell_type": "code",
   "execution_count": 6,
   "metadata": {
    "collapsed": false,
    "scrolled": false
   },
   "outputs": [
    {
     "name": "stderr",
     "output_type": "stream",
     "text": [
      "INFO:astropyp.phot.psf:Total sources: 473\n",
      "INFO:astropyp.phot.psf:Sources with low flux: 89\n",
      "INFO:astropyp.phot.psf:Sources with low amplitude: 410\n",
      "INFO:astropyp.phot.psf:Sources with bad pixels: 99\n",
      "INFO:astropyp.phot.psf:Elliptical sources: 50\n",
      "INFO:astropyp.phot.psf:Source with close neighbors: 56\n",
      "INFO:astropyp.phot.psf:Sources near an edge: 1\n",
      "INFO:astropyp.phot.psf:Sources after cuts: 18\n"
     ]
    }
   ],
   "source": [
    "conv_filter = np.array([\n",
    "    [0.030531, 0.065238, 0.112208, 0.155356, 0.173152, 0.155356, 0.112208, 0.065238, 0.030531],\n",
    "    [0.065238, 0.139399, 0.239763, 0.331961, 0.369987, 0.331961, 0.239763, 0.139399, 0.065238],\n",
    "    [0.112208, 0.239763, 0.412386, 0.570963, 0.636368, 0.570963, 0.412386, 0.239763, 0.112208],\n",
    "    [0.155356, 0.331961, 0.570963, 0.790520, 0.881075, 0.790520, 0.570963, 0.331961, 0.155356],\n",
    "    [0.173152, 0.369987, 0.636368, 0.881075, 0.982004, 0.881075, 0.636368, 0.369987, 0.173152],\n",
    "    [0.155356, 0.331961, 0.570963, 0.790520, 0.881075, 0.790520, 0.570963, 0.331961, 0.155356],\n",
    "    [0.112208, 0.239763, 0.412386, 0.570963, 0.636368, 0.570963, 0.412386, 0.239763, 0.112208],\n",
    "    [0.065238, 0.139399, 0.239763, 0.331961, 0.369987, 0.331961, 0.239763, 0.139399, 0.065238],\n",
    "    [0.030531, 0.065238, 0.112208, 0.155356, 0.173152, 0.155356, 0.112208, 0.065238, 0.030531]\n",
    "])\n",
    "sex_params = {\n",
    "    'extract': {\n",
    "        #'thresh': 1.5,# *bkg.globalrms,\n",
    "        #'err':,\n",
    "        #'minarea': 5, # default\n",
    "        'conv': conv_filter,\n",
    "        #'deblend_nthresh': 32, #default\n",
    "        'deblend_cont': 0.001,\n",
    "        #'clean': True, #default\n",
    "        #'clean_param': 1 #default\n",
    "    },\n",
    "    'kron_k': 2.5,\n",
    "    'kron_min_radius': 3.5,\n",
    "    'filter': conv_filter,\n",
    "    'thresh': 1.5\n",
    "}\n",
    "\n",
    "ccd = astropyp.phot.phot.SingleImage(header, img_data, dqmask_data, \n",
    "    wcs=wcs, gain=4., exptime=30, aper_radius=8)\n",
    "ccd.detect_sources(sex_params)\n",
    "ccd.select_psf_sources(1000,1000)\n",
    "psf_array = ccd.create_psf()\n",
    "#ccd.show_psf()\n",
    "#psf_groups = ccd.create_psf_groups(verbose=True)\n",
    "good_idx = (ccd.catalog.sources['flags']==0) & (ccd.catalog.sources['peak']>100)\n",
    "psf_flux = ccd.perform_psf_photometry(indices=good_idx)"
   ]
  },
  {
   "cell_type": "code",
   "execution_count": 3,
   "metadata": {
    "collapsed": false
   },
   "outputs": [
    {
     "data": {
      "text/plain": [
       "[45, 130, 137, 167, 171, 197, 199, 241, 346, 355, 389, 432, 437]"
      ]
     },
     "execution_count": 3,
     "metadata": {},
     "output_type": "execute_result"
    }
   ],
   "source": [
    "groups = [g for g,grp in psf_groups.items() if isinstance(grp, astropyp.phot.psf.GroupPSF)]\n",
    "groups"
   ]
  },
  {
   "cell_type": "code",
   "execution_count": 4,
   "metadata": {
    "collapsed": false,
    "scrolled": false
   },
   "outputs": [
    {
     "name": "stderr",
     "output_type": "stream",
     "text": [
      "WARNING: The fit may be unsuccessful; check fit_info['message'] for more information. [astropy.modeling.fitting]\n",
      "WARNING:astropy:The fit may be unsuccessful; check fit_info['message'] for more information.\n"
     ]
    }
   ],
   "source": [
    "good_idx = (ccd.catalog.sources['flags']==0) & (ccd.catalog.sources['peak']>100)\n",
    "psf_flux = ccd.perform_psf_photometry(group_sources=False, indices=good_idx)"
   ]
  },
  {
   "cell_type": "code",
   "execution_count": 7,
   "metadata": {
    "collapsed": false
   },
   "outputs": [
    {
     "data": {
      "text/html": [
       "&lt;Table length=128&gt;\n",
       "<table id=\"table140205858911760\">\n",
       "<thead><tr><th>psf_mag</th><th>psf_mag_err</th></tr></thead>\n",
       "<thead><tr><th>float64</th><th>float64</th></tr></thead>\n",
       "<tr><td>-7.44944880759</td><td>0.00634393899648</td></tr>\n",
       "<tr><td>-5.96538389255</td><td>0.0223916677359</td></tr>\n",
       "<tr><td>-4.70995789158</td><td>0.0691719721804</td></tr>\n",
       "<tr><td>-7.90640462773</td><td>0.00443451836823</td></tr>\n",
       "<tr><td>-5.11959038922</td><td>0.0477232165822</td></tr>\n",
       "<tr><td>-7.49595008859</td><td>0.00611187952582</td></tr>\n",
       "<tr><td>-4.70346048467</td><td>0.0695815942752</td></tr>\n",
       "<tr><td>-5.69552112739</td><td>0.0284543777232</td></tr>\n",
       "<tr><td>-5.69552112739</td><td>0.0284543777232</td></tr>\n",
       "<tr><td>-5.98083887474</td><td>0.0220879278639</td></tr>\n",
       "<tr><td>...</td><td>...</td></tr>\n",
       "<tr><td>-6.16167687645</td><td>0.0188367876197</td></tr>\n",
       "<tr><td>-7.72782504098</td><td>0.00508930892804</td></tr>\n",
       "<tr><td>-5.55417357581</td><td>0.0322839590223</td></tr>\n",
       "<tr><td>-7.2807836369</td><td>0.00727252556149</td></tr>\n",
       "<tr><td>-4.86213422659</td><td>0.0602467993625</td></tr>\n",
       "<tr><td>-5.26429703309</td><td>0.0418831897222</td></tr>\n",
       "<tr><td>-5.97903996973</td><td>0.0221230605535</td></tr>\n",
       "<tr><td>-5.72250875877</td><td>0.0277781404175</td></tr>\n",
       "<tr><td>-5.38851313211</td><td>0.0374546406839</td></tr>\n",
       "<tr><td>-5.39779862619</td><td>0.0371434917124</td></tr>\n",
       "</table>"
      ],
      "text/plain": [
       "<Table length=128>\n",
       "   psf_mag       psf_mag_err   \n",
       "   float64         float64     \n",
       "-------------- ----------------\n",
       "-7.44944880759 0.00634393899648\n",
       "-5.96538389255  0.0223916677359\n",
       "-4.70995789158  0.0691719721804\n",
       "-7.90640462773 0.00443451836823\n",
       "-5.11959038922  0.0477232165822\n",
       "-7.49595008859 0.00611187952582\n",
       "-4.70346048467  0.0695815942752\n",
       "-5.69552112739  0.0284543777232\n",
       "-5.69552112739  0.0284543777232\n",
       "-5.98083887474  0.0220879278639\n",
       "           ...              ...\n",
       "-6.16167687645  0.0188367876197\n",
       "-7.72782504098 0.00508930892804\n",
       "-5.55417357581  0.0322839590223\n",
       " -7.2807836369 0.00727252556149\n",
       "-4.86213422659  0.0602467993625\n",
       "-5.26429703309  0.0418831897222\n",
       "-5.97903996973  0.0221230605535\n",
       "-5.72250875877  0.0277781404175\n",
       "-5.38851313211  0.0374546406839\n",
       "-5.39779862619  0.0371434917124"
      ]
     },
     "execution_count": 7,
     "metadata": {},
     "output_type": "execute_result"
    }
   ],
   "source": [
    "ccd.catalog['psf_mag', 'psf_mag_err'][good_idx]"
   ]
  },
  {
   "cell_type": "code",
   "execution_count": null,
   "metadata": {
    "collapsed": true
   },
   "outputs": [],
   "source": []
  }
 ],
 "metadata": {
  "kernelspec": {
   "display_name": "Python 2",
   "language": "python",
   "name": "python2"
  },
  "language_info": {
   "codemirror_mode": {
    "name": "ipython",
    "version": 2
   },
   "file_extension": ".py",
   "mimetype": "text/x-python",
   "name": "python",
   "nbconvert_exporter": "python",
   "pygments_lexer": "ipython2",
   "version": "2.7.10"
  }
 },
 "nbformat": 4,
 "nbformat_minor": 0
}
